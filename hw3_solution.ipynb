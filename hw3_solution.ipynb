{
 "cells": [
  {
   "cell_type": "markdown",
   "metadata": {},
   "source": [
    "# Using Python for Research Homework: Week 3, Case Study 2\n",
    "\n",
    "In this case study, we will find and plot the distribution of word frequencies for each translation of Hamlet.  Perhaps the distribution of word frequencies of Hamlet depends on the translation --- let's find out!"
   ]
  },
  {
   "cell_type": "code",
   "execution_count": 50,
   "metadata": {},
   "outputs": [],
   "source": [
    "# DO NOT EDIT THIS CODE!\n",
    "import os\n",
    "import pandas as pd\n",
    "import numpy as np\n",
    "from collections import Counter\n",
    "\n",
    "def count_words_fast(text):\n",
    "    text = text.lower()\n",
    "    skips = [\".\", \",\", \";\", \":\", \"'\", '\"', \"\\n\", \"!\", \"?\", \"(\", \")\"]\n",
    "    for ch in skips:\n",
    "        text = text.replace(ch, \"\")\n",
    "    word_counts = Counter(text.split(\" \"))\n",
    "    return word_counts\n",
    "\n",
    "def word_stats(word_counts):\n",
    "    num_unique = len(word_counts)\n",
    "    counts = word_counts.values()\n",
    "    return (num_unique, counts)"
   ]
  },
  {
   "cell_type": "markdown",
   "metadata": {},
   "source": [
    "### Exercise 1 \n",
    "\n",
    "In this case study, we will find and visualize summary statistics of the text of different translations of Hamlet. For this case study, functions `count_words_fast` and `word_stats` are already defined as in the Case 2 Videos (Videos 3.2.x).\n",
    "\n",
    "#### Instructions \n",
    "- Read in the data as a pandas dataframe using `pd.read_csv`. Use the `index_col` argument to set the first column in the csv file as the index for the dataframe. The data can be found at https://courses.edx.org/asset-v1:HarvardX+PH526x+2T2019+type@asset+block@hamlets.csv"
   ]
  },
  {
   "cell_type": "code",
   "execution_count": 51,
   "metadata": {},
   "outputs": [
    {
     "output_type": "execute_result",
     "data": {
      "text/plain": "     language                                               text\n1     English  The Tragedie of Hamlet\\n                      ...\n2      German  Hamlet, Prinz von Dännemark.\\n                ...\n3  Portuguese  HAMLET\\n                             DRAMA EM ...",
      "text/html": "<div>\n<style scoped>\n    .dataframe tbody tr th:only-of-type {\n        vertical-align: middle;\n    }\n\n    .dataframe tbody tr th {\n        vertical-align: top;\n    }\n\n    .dataframe thead th {\n        text-align: right;\n    }\n</style>\n<table border=\"1\" class=\"dataframe\">\n  <thead>\n    <tr style=\"text-align: right;\">\n      <th></th>\n      <th>language</th>\n      <th>text</th>\n    </tr>\n  </thead>\n  <tbody>\n    <tr>\n      <th>1</th>\n      <td>English</td>\n      <td>The Tragedie of Hamlet\\n                      ...</td>\n    </tr>\n    <tr>\n      <th>2</th>\n      <td>German</td>\n      <td>Hamlet, Prinz von Dännemark.\\n                ...</td>\n    </tr>\n    <tr>\n      <th>3</th>\n      <td>Portuguese</td>\n      <td>HAMLET\\n                             DRAMA EM ...</td>\n    </tr>\n  </tbody>\n</table>\n</div>"
     },
     "metadata": {},
     "execution_count": 51
    }
   ],
   "source": [
    "import pandas as pd\n",
    "hamlets = pd.read_csv(\"https://courses.edx.org/asset-v1:HarvardX+PH526x+2T2019+type@asset+block@hamlets.csv\",index_col=0)## Complete this line of code! ##\n",
    "hamlets"
   ]
  },
  {
   "cell_type": "markdown",
   "metadata": {},
   "source": [
    "### Exercise 2 \n",
    "\n",
    "In this exercise, we will summarize the text for a single translation of Hamlet in a `pandas` dataframe. \n",
    "\n",
    "#### Instructions\n",
    "- Find the dictionary of word frequency in `text` by calling `count_words_fast()`. Store this as `counted_text`.\n",
    "- Create a `pandas` dataframe named `data`.\n",
    "- Using `counted_text`, define two columns in data:\n",
    "    - `word`, consisting of each unique word in text.\n",
    "    - `count`, consisting of the number of times each word in `word` is included in the text."
   ]
  },
  {
   "cell_type": "code",
   "execution_count": 52,
   "metadata": {
    "tags": [
     "outputPrepend"
    ]
   },
   "outputs": [
    {
     "output_type": "stream",
     "name": "stdout",
     "text": "English\n"
    },
    {
     "output_type": "execute_result",
     "data": {
      "text/plain": "              word  count\n0              the    935\n1         tragedie      3\n2               of    576\n3           hamlet     97\n4                   45513\n...            ...    ...\n5108  shooteexeunt      1\n5109      marching      1\n5110         peale      1\n5111           ord      1\n5112         finis      1\n\n[5113 rows x 2 columns]",
      "text/html": "<div>\n<style scoped>\n    .dataframe tbody tr th:only-of-type {\n        vertical-align: middle;\n    }\n\n    .dataframe tbody tr th {\n        vertical-align: top;\n    }\n\n    .dataframe thead th {\n        text-align: right;\n    }\n</style>\n<table border=\"1\" class=\"dataframe\">\n  <thead>\n    <tr style=\"text-align: right;\">\n      <th></th>\n      <th>word</th>\n      <th>count</th>\n    </tr>\n  </thead>\n  <tbody>\n    <tr>\n      <th>0</th>\n      <td>the</td>\n      <td>935</td>\n    </tr>\n    <tr>\n      <th>1</th>\n      <td>tragedie</td>\n      <td>3</td>\n    </tr>\n    <tr>\n      <th>2</th>\n      <td>of</td>\n      <td>576</td>\n    </tr>\n    <tr>\n      <th>3</th>\n      <td>hamlet</td>\n      <td>97</td>\n    </tr>\n    <tr>\n      <th>4</th>\n      <td></td>\n      <td>45513</td>\n    </tr>\n    <tr>\n      <th>...</th>\n      <td>...</td>\n      <td>...</td>\n    </tr>\n    <tr>\n      <th>5108</th>\n      <td>shooteexeunt</td>\n      <td>1</td>\n    </tr>\n    <tr>\n      <th>5109</th>\n      <td>marching</td>\n      <td>1</td>\n    </tr>\n    <tr>\n      <th>5110</th>\n      <td>peale</td>\n      <td>1</td>\n    </tr>\n    <tr>\n      <th>5111</th>\n      <td>ord</td>\n      <td>1</td>\n    </tr>\n    <tr>\n      <th>5112</th>\n      <td>finis</td>\n      <td>1</td>\n    </tr>\n  </tbody>\n</table>\n<p>5113 rows × 2 columns</p>\n</div>"
     },
     "metadata": {},
     "execution_count": 52
    }
   ],
   "source": [
    "language, text = hamlets.iloc[0]\n",
    "print(language) # we are accessing only english\n",
    "#print(text)\n",
    "\n",
    "counted_text = count_words_fast(text)\n",
    "data = pd.DataFrame(columns=(\"word\",\"count\"))\n",
    "data[\"word\"] = counted_text.keys()\n",
    "data[\"count\"] = counted_text.values() \n",
    "data"
   ]
  },
  {
   "cell_type": "markdown",
   "metadata": {},
   "source": [
    "### Exercise 3\n",
    "\n",
    "In this exercise, we will continue to define summary statistics for a single translation of Hamlet. \n",
    "\n",
    "#### Instructions\n",
    "- Add a column to data named `length`, defined as the length of each word.\n",
    "- Add another column named `frequency`, which is defined as follows for each word in `data`:\n",
    "    - If `count > 10`, `frequency` is \"frequent\".\n",
    "    - If `1 < count <= 10`, `frequency` is \"infrequent\".\n",
    "    - If `count == 1`, `frequency` is \"unique\"."
   ]
  },
  {
   "cell_type": "code",
   "execution_count": 77,
   "metadata": {},
   "outputs": [
    {
     "output_type": "execute_result",
     "data": {
      "text/plain": "              word  count  length   frequency\n0              the    935       3    frequent\n1         tragedie      3       8  infrequent\n2               of    576       2    frequent\n3           hamlet     97       6    frequent\n4                   45513       0    frequent\n...            ...    ...     ...         ...\n5108  shooteexeunt      1      12      unique\n5109      marching      1       8      unique\n5110         peale      1       5      unique\n5111           ord      1       3      unique\n5112         finis      1       5      unique\n\n[5113 rows x 4 columns]",
      "text/html": "<div>\n<style scoped>\n    .dataframe tbody tr th:only-of-type {\n        vertical-align: middle;\n    }\n\n    .dataframe tbody tr th {\n        vertical-align: top;\n    }\n\n    .dataframe thead th {\n        text-align: right;\n    }\n</style>\n<table border=\"1\" class=\"dataframe\">\n  <thead>\n    <tr style=\"text-align: right;\">\n      <th></th>\n      <th>word</th>\n      <th>count</th>\n      <th>length</th>\n      <th>frequency</th>\n    </tr>\n  </thead>\n  <tbody>\n    <tr>\n      <th>0</th>\n      <td>the</td>\n      <td>935</td>\n      <td>3</td>\n      <td>frequent</td>\n    </tr>\n    <tr>\n      <th>1</th>\n      <td>tragedie</td>\n      <td>3</td>\n      <td>8</td>\n      <td>infrequent</td>\n    </tr>\n    <tr>\n      <th>2</th>\n      <td>of</td>\n      <td>576</td>\n      <td>2</td>\n      <td>frequent</td>\n    </tr>\n    <tr>\n      <th>3</th>\n      <td>hamlet</td>\n      <td>97</td>\n      <td>6</td>\n      <td>frequent</td>\n    </tr>\n    <tr>\n      <th>4</th>\n      <td></td>\n      <td>45513</td>\n      <td>0</td>\n      <td>frequent</td>\n    </tr>\n    <tr>\n      <th>...</th>\n      <td>...</td>\n      <td>...</td>\n      <td>...</td>\n      <td>...</td>\n    </tr>\n    <tr>\n      <th>5108</th>\n      <td>shooteexeunt</td>\n      <td>1</td>\n      <td>12</td>\n      <td>unique</td>\n    </tr>\n    <tr>\n      <th>5109</th>\n      <td>marching</td>\n      <td>1</td>\n      <td>8</td>\n      <td>unique</td>\n    </tr>\n    <tr>\n      <th>5110</th>\n      <td>peale</td>\n      <td>1</td>\n      <td>5</td>\n      <td>unique</td>\n    </tr>\n    <tr>\n      <th>5111</th>\n      <td>ord</td>\n      <td>1</td>\n      <td>3</td>\n      <td>unique</td>\n    </tr>\n    <tr>\n      <th>5112</th>\n      <td>finis</td>\n      <td>1</td>\n      <td>5</td>\n      <td>unique</td>\n    </tr>\n  </tbody>\n</table>\n<p>5113 rows × 4 columns</p>\n</div>"
     },
     "metadata": {},
     "execution_count": 77
    }
   ],
   "source": [
    "data[\"length\"]=data[\"word\"].apply(len)\n",
    "data"
   ]
  },
  {
   "cell_type": "code",
   "execution_count": 55,
   "metadata": {},
   "outputs": [
    {
     "output_type": "execute_result",
     "data": {
      "text/plain": "              word  count  length\n0              the    935       3\n1         tragedie      3       8\n2               of    576       2\n3           hamlet     97       6\n4                   45513       0\n...            ...    ...     ...\n5108  shooteexeunt      1      12\n5109      marching      1       8\n5110         peale      1       5\n5111           ord      1       3\n5112         finis      1       5\n\n[5113 rows x 3 columns]",
      "text/html": "<div>\n<style scoped>\n    .dataframe tbody tr th:only-of-type {\n        vertical-align: middle;\n    }\n\n    .dataframe tbody tr th {\n        vertical-align: top;\n    }\n\n    .dataframe thead th {\n        text-align: right;\n    }\n</style>\n<table border=\"1\" class=\"dataframe\">\n  <thead>\n    <tr style=\"text-align: right;\">\n      <th></th>\n      <th>word</th>\n      <th>count</th>\n      <th>length</th>\n    </tr>\n  </thead>\n  <tbody>\n    <tr>\n      <th>0</th>\n      <td>the</td>\n      <td>935</td>\n      <td>3</td>\n    </tr>\n    <tr>\n      <th>1</th>\n      <td>tragedie</td>\n      <td>3</td>\n      <td>8</td>\n    </tr>\n    <tr>\n      <th>2</th>\n      <td>of</td>\n      <td>576</td>\n      <td>2</td>\n    </tr>\n    <tr>\n      <th>3</th>\n      <td>hamlet</td>\n      <td>97</td>\n      <td>6</td>\n    </tr>\n    <tr>\n      <th>4</th>\n      <td></td>\n      <td>45513</td>\n      <td>0</td>\n    </tr>\n    <tr>\n      <th>...</th>\n      <td>...</td>\n      <td>...</td>\n      <td>...</td>\n    </tr>\n    <tr>\n      <th>5108</th>\n      <td>shooteexeunt</td>\n      <td>1</td>\n      <td>12</td>\n    </tr>\n    <tr>\n      <th>5109</th>\n      <td>marching</td>\n      <td>1</td>\n      <td>8</td>\n    </tr>\n    <tr>\n      <th>5110</th>\n      <td>peale</td>\n      <td>1</td>\n      <td>5</td>\n    </tr>\n    <tr>\n      <th>5111</th>\n      <td>ord</td>\n      <td>1</td>\n      <td>3</td>\n    </tr>\n    <tr>\n      <th>5112</th>\n      <td>finis</td>\n      <td>1</td>\n      <td>5</td>\n    </tr>\n  </tbody>\n</table>\n<p>5113 rows × 3 columns</p>\n</div>"
     },
     "metadata": {},
     "execution_count": 55
    }
   ],
   "source": [
    "#poke.loc[poke['Type 1']=='Fire', 'Type 1'] = \"Flamer\"\n",
    "data"
   ]
  },
  {
   "cell_type": "code",
   "execution_count": 75,
   "metadata": {},
   "outputs": [
    {
     "output_type": "execute_result",
     "data": {
      "text/plain": "              word  count  length   frequency\n0              the    935       3    frequent\n1         tragedie      3       8  infrequent\n2               of    576       2    frequent\n3           hamlet     97       6    frequent\n4                   45513       0    frequent\n...            ...    ...     ...         ...\n5108  shooteexeunt      1      12      unique\n5109      marching      1       8      unique\n5110         peale      1       5      unique\n5111           ord      1       3      unique\n5112         finis      1       5      unique\n\n[5113 rows x 4 columns]",
      "text/html": "<div>\n<style scoped>\n    .dataframe tbody tr th:only-of-type {\n        vertical-align: middle;\n    }\n\n    .dataframe tbody tr th {\n        vertical-align: top;\n    }\n\n    .dataframe thead th {\n        text-align: right;\n    }\n</style>\n<table border=\"1\" class=\"dataframe\">\n  <thead>\n    <tr style=\"text-align: right;\">\n      <th></th>\n      <th>word</th>\n      <th>count</th>\n      <th>length</th>\n      <th>frequency</th>\n    </tr>\n  </thead>\n  <tbody>\n    <tr>\n      <th>0</th>\n      <td>the</td>\n      <td>935</td>\n      <td>3</td>\n      <td>frequent</td>\n    </tr>\n    <tr>\n      <th>1</th>\n      <td>tragedie</td>\n      <td>3</td>\n      <td>8</td>\n      <td>infrequent</td>\n    </tr>\n    <tr>\n      <th>2</th>\n      <td>of</td>\n      <td>576</td>\n      <td>2</td>\n      <td>frequent</td>\n    </tr>\n    <tr>\n      <th>3</th>\n      <td>hamlet</td>\n      <td>97</td>\n      <td>6</td>\n      <td>frequent</td>\n    </tr>\n    <tr>\n      <th>4</th>\n      <td></td>\n      <td>45513</td>\n      <td>0</td>\n      <td>frequent</td>\n    </tr>\n    <tr>\n      <th>...</th>\n      <td>...</td>\n      <td>...</td>\n      <td>...</td>\n      <td>...</td>\n    </tr>\n    <tr>\n      <th>5108</th>\n      <td>shooteexeunt</td>\n      <td>1</td>\n      <td>12</td>\n      <td>unique</td>\n    </tr>\n    <tr>\n      <th>5109</th>\n      <td>marching</td>\n      <td>1</td>\n      <td>8</td>\n      <td>unique</td>\n    </tr>\n    <tr>\n      <th>5110</th>\n      <td>peale</td>\n      <td>1</td>\n      <td>5</td>\n      <td>unique</td>\n    </tr>\n    <tr>\n      <th>5111</th>\n      <td>ord</td>\n      <td>1</td>\n      <td>3</td>\n      <td>unique</td>\n    </tr>\n    <tr>\n      <th>5112</th>\n      <td>finis</td>\n      <td>1</td>\n      <td>5</td>\n      <td>unique</td>\n    </tr>\n  </tbody>\n</table>\n<p>5113 rows × 4 columns</p>\n</div>"
     },
     "metadata": {},
     "execution_count": 75
    }
   ],
   "source": [
    "data.loc[data[\"count\"]>10,\"frequency\"]=\"frequent\"\n",
    "data.loc[data[\"count\"]<=10,'frequency']= \"infrequent\"\n",
    "data.loc[data[\"count\"]==1, \"frequency\"]= \"unique\"\n",
    "data\n"
   ]
  },
  {
   "cell_type": "code",
   "execution_count": 76,
   "metadata": {},
   "outputs": [
    {
     "output_type": "execute_result",
     "data": {
      "text/plain": "              word  count  length frequency\n6           primus      1       6    unique\n7           scoena      1       6    unique\n8            prima      1       5    unique\n12       francisco      1       9    unique\n14       centinels      1       9    unique\n...            ...    ...     ...       ...\n5108  shooteexeunt      1      12    unique\n5109      marching      1       8    unique\n5110         peale      1       5    unique\n5111           ord      1       3    unique\n5112         finis      1       5    unique\n\n[3348 rows x 4 columns]",
      "text/html": "<div>\n<style scoped>\n    .dataframe tbody tr th:only-of-type {\n        vertical-align: middle;\n    }\n\n    .dataframe tbody tr th {\n        vertical-align: top;\n    }\n\n    .dataframe thead th {\n        text-align: right;\n    }\n</style>\n<table border=\"1\" class=\"dataframe\">\n  <thead>\n    <tr style=\"text-align: right;\">\n      <th></th>\n      <th>word</th>\n      <th>count</th>\n      <th>length</th>\n      <th>frequency</th>\n    </tr>\n  </thead>\n  <tbody>\n    <tr>\n      <th>6</th>\n      <td>primus</td>\n      <td>1</td>\n      <td>6</td>\n      <td>unique</td>\n    </tr>\n    <tr>\n      <th>7</th>\n      <td>scoena</td>\n      <td>1</td>\n      <td>6</td>\n      <td>unique</td>\n    </tr>\n    <tr>\n      <th>8</th>\n      <td>prima</td>\n      <td>1</td>\n      <td>5</td>\n      <td>unique</td>\n    </tr>\n    <tr>\n      <th>12</th>\n      <td>francisco</td>\n      <td>1</td>\n      <td>9</td>\n      <td>unique</td>\n    </tr>\n    <tr>\n      <th>14</th>\n      <td>centinels</td>\n      <td>1</td>\n      <td>9</td>\n      <td>unique</td>\n    </tr>\n    <tr>\n      <th>...</th>\n      <td>...</td>\n      <td>...</td>\n      <td>...</td>\n      <td>...</td>\n    </tr>\n    <tr>\n      <th>5108</th>\n      <td>shooteexeunt</td>\n      <td>1</td>\n      <td>12</td>\n      <td>unique</td>\n    </tr>\n    <tr>\n      <th>5109</th>\n      <td>marching</td>\n      <td>1</td>\n      <td>8</td>\n      <td>unique</td>\n    </tr>\n    <tr>\n      <th>5110</th>\n      <td>peale</td>\n      <td>1</td>\n      <td>5</td>\n      <td>unique</td>\n    </tr>\n    <tr>\n      <th>5111</th>\n      <td>ord</td>\n      <td>1</td>\n      <td>3</td>\n      <td>unique</td>\n    </tr>\n    <tr>\n      <th>5112</th>\n      <td>finis</td>\n      <td>1</td>\n      <td>5</td>\n      <td>unique</td>\n    </tr>\n  </tbody>\n</table>\n<p>3348 rows × 4 columns</p>\n</div>"
     },
     "metadata": {},
     "execution_count": 76
    }
   ],
   "source": [
    "data.loc[data[\"frequency\"]==\"unique\"]"
   ]
  },
  {
   "cell_type": "markdown",
   "metadata": {},
   "source": [
    "### Exercise 4\n",
    "\n",
    "In this exercise, we will summarize the statistics in data into a smaller pandas dataframe. \n",
    "\n",
    "#### Instructions \n",
    "- Create a `pandas` dataframe named `sub_data` including the following columns:\n",
    "    - `language`, which is the language of the text (defined in Exercise 2).\n",
    "    - `frequency`, which is a list containing the strings \"frequent\", \"infrequent\", and \"unique\".\n",
    "    - `mean_word_length`, which is the mean word length of each value in frequency.\n",
    "    - `num_words`, which is the total number of words in each frequency category."
   ]
  },
  {
   "cell_type": "code",
   "execution_count": null,
   "metadata": {},
   "outputs": [],
   "source": []
  }
 ],
 "metadata": {
  "language_info": {
   "codemirror_mode": {
    "name": "ipython",
    "version": 3
   },
   "file_extension": ".py",
   "mimetype": "text/x-python",
   "name": "python",
   "nbconvert_exporter": "python",
   "pygments_lexer": "ipython3",
   "version": "3.7.4-final"
  },
  "orig_nbformat": 2,
  "kernelspec": {
   "name": "python37464bitanaconda3virtualenv4f623ec99707439da8cb674933a4868c",
   "display_name": "Python 3.7.4 64-bit ('anaconda3': virtualenv)"
  }
 },
 "nbformat": 4,
 "nbformat_minor": 2
}