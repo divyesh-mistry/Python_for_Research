{
 "cells": [
  {
   "cell_type": "markdown",
   "metadata": {},
   "source": [
    "hello. We will learn how to count words in string\n"
   ]
  },
  {
   "cell_type": "code",
   "execution_count": 3,
   "metadata": {},
   "outputs": [],
   "source": [
    "# TO make a function which read each word in test string and keep count of each unique word\n",
    "text = \"hello, my name is Divyesh and divyesh can do anything.\"\n",
    "def word_count(text):\n",
    "    #spit each word from text string and access each word and looping over it\n",
    "    word_counts={}\n",
    "    for word in text.split(\" \"):\n",
    "        #repeated word\n",
    "        if word in word_counts:\n",
    "            word_counts[word]+=1\n",
    "        # new word\n",
    "        else:\n",
    "            word_counts[word]=1\n",
    "    return word_counts\n"
   ]
  },
  {
   "cell_type": "code",
   "execution_count": 4,
   "metadata": {},
   "outputs": [
    {
     "output_type": "execute_result",
     "data": {
      "text/plain": "{'hello,': 1,\n 'my': 1,\n 'name': 1,\n 'is': 1,\n 'Divyesh': 1,\n 'and': 1,\n 'divyesh': 1,\n 'can': 1,\n 'do': 1,\n 'anything.': 1}"
     },
     "metadata": {},
     "execution_count": 4
    }
   ],
   "source": [
    "word_count(text)"
   ]
  },
  {
   "cell_type": "code",
   "execution_count": 11,
   "metadata": {},
   "outputs": [
    {
     "output_type": "stream",
     "name": "stdout",
     "text": "hello my name is divyesh and divyesh can do anything\n"
    },
    {
     "output_type": "execute_result",
     "data": {
      "text/plain": "{'hello': 1,\n 'my': 1,\n 'name': 1,\n 'is': 1,\n 'divyesh': 2,\n 'and': 1,\n 'can': 1,\n 'do': 1,\n 'anything': 1}"
     },
     "metadata": {},
     "execution_count": 11
    }
   ],
   "source": [
    "#if we notice the result we can see that word is alos taking consideration of special character so if we have two same words appearing as 'Ds. and ds' our function will count them seperately  also we need to take care of capital word in string to remove differntiation between \"Divyesh and divyesh\"\n",
    "\n",
    "# TO make a function which read each word in test string and keep count of each unique word\n",
    "text = \"hello, my name is Divyesh and divyesh can do anything.\"\n",
    "text=text.lower()\n",
    "sp_char= [\",\",\".\", \":\",\";\", \"?\", \"!\"]\n",
    "for ch in sp_char:\n",
    "    text=text.replace(ch,\"\")\n",
    "print(text)\n",
    "def word_count(text):\n",
    "    #spit each word from text string and access each word and looping over it\n",
    "    word_counts={}\n",
    "    for word in text.split(\" \"):\n",
    "        #repeated word\n",
    "        if word in word_counts:\n",
    "            word_counts[word]+=1\n",
    "        # new word\n",
    "        else:\n",
    "            word_counts[word]=1\n",
    "    return word_counts\n",
    "word_count(text)"
   ]
  },
  {
   "cell_type": "code",
   "execution_count": 15,
   "metadata": {},
   "outputs": [
    {
     "output_type": "stream",
     "name": "stdout",
     "text": "hello my name is divyesh and divyesh can do anything\n"
    },
    {
     "output_type": "execute_result",
     "data": {
      "text/plain": "Counter({'hello': 1,\n         'my': 1,\n         'name': 1,\n         'is': 1,\n         'divyesh': 2,\n         'and': 1,\n         'can': 1,\n         'do': 1,\n         'anything': 1})"
     },
     "metadata": {},
     "execution_count": 15
    }
   ],
   "source": [
    "# we have module available in python wich count words \n",
    "from collections import Counter\n",
    "\n",
    "text = \"hello, my name is Divyesh and divyesh can do anything.\"\n",
    "text=text.lower()\n",
    "sp_char= [\",\",\".\", \":\",\";\", \"?\", \"!\"]\n",
    "for ch in sp_char:\n",
    "    text=text.replace(ch,\"\")\n",
    "print(text)\n",
    "def word_count_fast(text):\n",
    "    \"\"\"\n",
    "    Count the number of time each word occure in text(str).\n",
    "    return dictionary of words where keys are of unique word\n",
    "    and values are the number of time it has appeared in the string\n",
    "    \"\"\"\n",
    "    word_count=Counter(text.split(\" \"))\n",
    "    return word_count\n",
    "word_count_fast(text)"
   ]
  },
  {
   "cell_type": "code",
   "execution_count": null,
   "metadata": {},
   "outputs": [],
   "source": []
  }
 ],
 "metadata": {
  "language_info": {
   "codemirror_mode": {
    "name": "ipython",
    "version": 3
   },
   "file_extension": ".py",
   "mimetype": "text/x-python",
   "name": "python",
   "nbconvert_exporter": "python",
   "pygments_lexer": "ipython3",
   "version": "3.7.4-final"
  },
  "orig_nbformat": 2,
  "kernelspec": {
   "name": "python37464bitanaconda3virtualenv4f623ec99707439da8cb674933a4868c",
   "display_name": "Python 3.7.4 64-bit ('anaconda3': virtualenv)"
  }
 },
 "nbformat": 4,
 "nbformat_minor": 2
}